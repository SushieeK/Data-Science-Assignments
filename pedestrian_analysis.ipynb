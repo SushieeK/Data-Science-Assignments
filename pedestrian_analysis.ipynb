
{
 "cells": [
  {
   "cell_type": "code",
   "execution_count": null,
   "id": "bda8e6b5",
   "metadata": {},
   "outputs": [],
   "source": [
    "import pandas as pd\n",
    "import matplotlib.pyplot as plt\n",
    "import datetime\n",
    "\n",
    "# Read the dataset\n",
    "url = \"https://data.cityofnewyork.us/api/views/6fi9-q3ta/rows.csv?accessType=DOWNLOAD\"\n",
    "df = pd.read_csv(url)\n",
    "\n",
    "# Converting 'hour_beginning' column to datetime format\n",
    "df['hour_beginning'] = pd.to_datetime(df['hour_beginning'])\n",
    "\n",
    "# Filtering for weekdays (Monday to Friday)\n",
    "df['DayOfWeek'] = df['hour_beginning'].dt.day_name()\n",
    "weekdays = df[df['DayOfWeek'].isin(['Monday', 'Tuesday', 'Wednesday', 'Thursday', 'Friday'])]\n",
    "\n",
    "# Plotting pedestrian counts for each weekday\n",
    "weekday_counts = weekdays.groupby('DayOfWeek')['Pedestrians'].sum().reindex(['Monday', 'Tuesday', 'Wednesday', 'Thursday', 'Friday'])\n",
    "\n",
    "plt.figure(figsize=(10, 6))\n",
    "weekday_counts.plot(kind='line', marker='o', color='b')\n",
    "plt.title('Pedestrian Counts (Weekdays Only)')\n",
    "plt.xlabel('Day of the Week')\n",
    "plt.ylabel('Total Pedestrian Count')\n",
    "plt.grid(True)\n",
    "plt.show()"
   ]
  },
  {
   "cell_type": "code",
   "execution_count": null,
   "id": "d93d275d",
   "metadata": {},
   "outputs": [],
   "source": [
    "# 2. Track pedestrian counts on the Brooklyn Bridge for the year 2019 and analyze weather conditions.\n",
    "\n",
    "# Filter data for Brooklyn Bridge and the year 2019\n",
    "df_2019 = df[(df['hour_beginning'].dt.year == 2019)]\n",
    "\n",
    "# One-hot encoding for the weather summary\n",
    "weather_encoded = pd.get_dummies(df_2019['weather_summary'], prefix='Weather')\n",
    "\n",
    "# Merging the encoded weather columns with the original dataframe\n",
    "df_2019_encoded = pd.concat([df_2019, weather_encoded], axis=1)\n",
    "\n",
    "# Calculating correlation matrix between pedestrian counts and weather conditions\n",
    "correlation_matrix = df_2019_encoded.corr()\n",
    "\n",
    "# Showing correlation matrix for the weather and pedestrian columns\n",
    "correlation_with_pedestrians = correlation_matrix['Pedestrians'].filter(like='Weather')\n",
    "print(correlation_with_pedestrians)"
   ]
  },
  {
   "cell_type": "code",
   "execution_count": null,
   "id": "9796f88c",
   "metadata": {},
   "outputs": [],
   "source": [
    "# 3. Categorize time of day into morning, afternoon, evening, and night\n",
    "\n",
    "# Custom function to categorize time of day\n",
    "def categorize_time_of_day(hour):\n",
    "    if 5 <= hour < 12:\n",
    "        return 'Morning'\n",
    "    elif 12 <= hour < 17:\n",
    "        return 'Afternoon'\n",
    "    elif 17 <= hour < 21:\n",
    "        return 'Evening'\n",
    "    else:\n",
    "        return 'Night'\n",
    "\n",
    "# Apply the function to create a new column\n",
    "df['TimeOfDay'] = df['hour_beginning'].dt.hour.apply(categorize_time_of_day)\n",
    "\n",
    "# Group by time of day and sum the pedestrian counts\n",
    "time_of_day_activity = df.groupby('TimeOfDay')['Pedestrians'].sum()\n",
    "\n",
    "# Plotting the activity\n",
    "plt.figure(figsize=(8, 6))\n",
    "time_of_day_activity.plot(kind='bar', color='orange')\n",
    "plt.title('Pedestrian Activity by Time of Day')\n",
    "plt.xlabel('Time of Day')\n",
    "plt.ylabel('Total Pedestrian Count')\n",
    "plt.xticks(rotation=0)\n",
    "plt.show()"
   ]
  }
 ],
 "metadata": {
  "kernelspec": {
   "display_name": "Python 3",
   "language": "python",
   "name": "python3"
  },
  "language_info": {
   "name": "python",
   "version": "3.8.5"
  }
 },
 "nbformat": 4,
 "nbformat_minor": 5
}
